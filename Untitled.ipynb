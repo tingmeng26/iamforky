{
 "cells": [
  {
   "cell_type": "code",
   "execution_count": null,
   "metadata": {},
   "outputs": [],
   "source": [
    "# import pandas as pd\n",
    "index = [('Taichung',2018),('Taichung',2017),\n",
    "         ('Changhua',2018),('Changhua',2017),\n",
    "         ('Taipei',2018),('Taipei',2017),\n",
    "         ('Kaohsiung',2018),('Kaohsiung',2017)]\n",
    "elementary = [\n",
    "    800,780,620,580,1500,1350,1100,998\n",
    "]\n",
    "ironman = pd.Series(elementary, index=index)\n",
    "ironman"
   ]
  },
  {
   "cell_type": "code",
   "execution_count": null,
   "metadata": {},
   "outputs": [],
   "source": []
  },
  {
   "cell_type": "code",
   "execution_count": null,
   "metadata": {},
   "outputs": [],
   "source": []
  }
 ],
 "metadata": {
  "kernelspec": {
   "display_name": "Python 3",
   "language": "python",
   "name": "python3"
  },
  "language_info": {
   "codemirror_mode": {
    "name": "ipython",
    "version": 3
   },
   "file_extension": ".py",
   "mimetype": "text/x-python",
   "name": "python",
   "nbconvert_exporter": "python",
   "pygments_lexer": "ipython3",
   "version": "3.7.4"
  }
 },
 "nbformat": 4,
 "nbformat_minor": 2
}
